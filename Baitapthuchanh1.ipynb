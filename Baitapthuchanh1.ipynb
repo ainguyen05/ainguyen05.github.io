{
 "cells": [
  {
   "cell_type": "markdown",
   "id": "754f2b37-5012-4c89-8d88-316d35c036de",
   "metadata": {},
   "source": [
    "# CÁC THÀNH PHẦN CƠ BẢN CỦA PYTHON"
   ]
  },
  {
   "cell_type": "markdown",
   "id": "2c685760-633b-48f7-8599-d5ae23ae1fdc",
   "metadata": {},
   "source": [
    "## BÀI TẬP MẪU"
   ]
  },
  {
   "cell_type": "code",
   "execution_count": 1,
   "id": "88ccf65d-8291-4e11-8917-03eb0d2e023d",
   "metadata": {},
   "outputs": [
    {
     "name": "stdout",
     "output_type": "stream",
     "text": [
      "Whoever is happy will make others happy too\n",
      "--Anne Frank\n"
     ]
    }
   ],
   "source": [
    "print(\"Whoever is happy will make others happy too\");\n",
    "print(\"--Anne Frank\");"
   ]
  },
  {
   "cell_type": "code",
   "execution_count": 2,
   "id": "840308c4-3f0e-4758-b513-067bd1368b3e",
   "metadata": {},
   "outputs": [
    {
     "name": "stdin",
     "output_type": "stream",
     "text": [
      "Moi ban nhap so a:  5\n",
      "Moi ban nhap so b:  6\n"
     ]
    },
    {
     "name": "stdout",
     "output_type": "stream",
     "text": [
      "Cac ket qua tinh toan: \n",
      "5     +     6 =    11\n",
      "5     -     6 =    -1\n",
      "5     *     6 =    30\n",
      "5     /     6 =     0\n",
      "5     /     6 =     5\n",
      "5     /     6 =  0.83\n"
     ]
    }
   ],
   "source": [
    "# Nhập dữ liệu\n",
    "a = int(input(\"Moi ban nhap so a: \"))\n",
    "b = int(input(\"Moi ban nhap so b: \"))\n",
    "# Xử lý\n",
    "kqCong = a + b\n",
    "kqTru = a - b\n",
    "kqNhan = a * b\n",
    "kqChiaNguyen = a // b\n",
    "kqDu= a % b\n",
    "kqChiaThuc = a / b\n",
    "# Xuất dữ liệu\n",
    "print(\"Cac ket qua tinh toan: \")\n",
    "print(\"%-5d + %5d = %5d\"%(a, b, kqCong))\n",
    "print(\"%-5d - %5d = %5d\"%(a, b, kqTru))\n",
    "print(\"%-5d * %5d = %5d\"%(a, b, kqNhan))\n",
    "print(\"%-5d / %5d = %5d\"%(a, b, kqChiaNguyen))\n",
    "print(\"%-5d / %5d = %5d\"%(a, b, kqDu))\n",
    "print(\"%-5d / %5d = %5.2f\"%(a, b, kqChiaThuc))"
   ]
  },
  {
   "cell_type": "code",
   "execution_count": 3,
   "id": "466bea33-a7e3-4eff-887e-b3dbcdf0ef87",
   "metadata": {},
   "outputs": [
    {
     "name": "stdin",
     "output_type": "stream",
     "text": [
      "Moi ban nhap so a:  2.5\n",
      "Moi ban nhap so b:  6.8\n"
     ]
    },
    {
     "name": "stdout",
     "output_type": "stream",
     "text": [
      "Ket qua so sanh hai so thuc 2.50 va 6.80:\n",
      "2.50     <     6.80:     True\n",
      "2.50     <=     6.80:     True\n",
      "2.50     >     6.80:    False\n",
      "2.50     >=     6.80:    False\n",
      "2.50     ==     6.80:    False\n",
      "2.50     !=     6.80:     True\n"
     ]
    }
   ],
   "source": [
    "# Nhập dữ liệu\n",
    "a = float(input(\"Moi ban nhap so a: \"))\n",
    "b = float(input(\"Moi ban nhap so b: \"))\n",
    "# Xử lý\n",
    "laNhoHon = (a < b)\n",
    "laNhoHonBang = (a <= b)\n",
    "laLonHon = (a > b)\n",
    "laLonHonBang = (a >= b)\n",
    "laBang = (a == b)\n",
    "laKhacNhau = (a != b)\n",
    "# Xuất dữ liệu\n",
    "print(\"Ket qua so sanh hai so thuc %.2f va %.2f:\"%(a, b))\n",
    "print(\"%-8.2f < %8.2f: %8s\"%(a, b, laNhoHon))\n",
    "print(\"%-8.2f <= %8.2f: %8s\"%(a, b, laNhoHonBang))\n",
    "print(\"%-8.2f > %8.2f: %8s\"%(a, b, laLonHon))\n",
    "print(\"%-8.2f >= %8.2f: %8s\"%(a, b, laLonHonBang))\n",
    "print(\"%-8.2f == %8.2f: %8s\"%(a, b, laBang))\n",
    "print(\"%-8.2f != %8.2f: %8s\"%(a, b, laKhacNhau))\n"
   ]
  },
  {
   "cell_type": "code",
   "execution_count": 4,
   "id": "9d07cdb1-c126-4dfd-99ae-f0bcd9fa79e1",
   "metadata": {},
   "outputs": [
    {
     "name": "stdin",
     "output_type": "stream",
     "text": [
      "Moi ban nhap vao gia tri cua bien so x:  2.3\n"
     ]
    },
    {
     "name": "stdout",
     "output_type": "stream",
     "text": [
      "Gia tri cua ham so f(2.30) = 3.27.\n"
     ]
    }
   ],
   "source": [
    "#Nạp thư viện\n",
    "import math\n",
    "\n",
    "#Nhập dữ liệu\n",
    "x = float(input(\"Moi ban nhap vao gia tri cua bien so x: \"))\n",
    "\n",
    "#Xử lý\n",
    "fx = x + math.pow(x, 5) / (1 * 2 * 3 * 4 * 5) + \\\n",
    "math.sqrt(abs(x)) / math.pow(x, 3.0 / 2)\n",
    "\n",
    "# Xuất dữ liệu\n",
    "print(\"Gia tri cua ham so f(%.2f) = %.2f.\"%(x, fx))"
   ]
  },
  {
   "cell_type": "code",
   "execution_count": 7,
   "id": "c2bc48f2-c26b-4c28-a36b-3df335ffa16a",
   "metadata": {},
   "outputs": [
    {
     "name": "stdin",
     "output_type": "stream",
     "text": [
      "Moi ban nhap so nguyen n (co bon chu so):  1234\n"
     ]
    },
    {
     "name": "stdout",
     "output_type": "stream",
     "text": [
      "1234 = 1 + 2 + 3 + 4 = 10.\n"
     ]
    }
   ],
   "source": [
    "# Nhập dữ liệu\n",
    "n = int(input(\"Moi ban nhap so nguyen n (co bon chu so): \"))\n",
    "# Xử lý\n",
    "a = n // 1000\n",
    "b = (n // 100) % 10\n",
    "c = (n // 10) % 10\n",
    "d = n % 10\n",
    "tong = a + b + c + d\n",
    "# Xuất dữ liệu\n",
    "print(f\"{n} = {a} + {b} + {c} + {d} = {tong}.\")\n"
   ]
  },
  {
   "cell_type": "markdown",
   "id": "b8e541f5-c49c-4207-bb18-c998773f4112",
   "metadata": {},
   "source": [
    "## BÀI TẬP THỰC HÀNH"
   ]
  },
  {
   "cell_type": "code",
   "execution_count": 1,
   "id": "562913ef-462e-4915-bf3b-1acf3f852500",
   "metadata": {},
   "outputs": [
    {
     "name": "stdout",
     "output_type": "stream",
     "text": [
      "**************************\n",
      "* Truong: Dai Hoc UEH    *\n",
      "* Khoa: CNTT             *\n",
      "* Ho ten:                *\n",
      "**************************\n"
     ]
    }
   ],
   "source": [
    "width = 26\n",
    "border = \"*\" * width\n",
    "\n",
    "lines = [\n",
    "    \"Truong: Dai Hoc UEH\",\n",
    "    \"Khoa: CNTT\",\n",
    "    \"Ho ten:\"\n",
    "]\n",
    "\n",
    "print(border)\n",
    "for t in lines:\n",
    "    print(f\"* {t:<22} *\")\n",
    "print(border)"
   ]
  },
  {
   "cell_type": "code",
   "execution_count": 2,
   "id": "b5b55463-1f73-417c-b847-845e26106ec8",
   "metadata": {},
   "outputs": [
    {
     "name": "stdin",
     "output_type": "stream",
     "text": [
      "Nhap ban kinh R:  5\n"
     ]
    },
    {
     "name": "stdout",
     "output_type": "stream",
     "text": [
      "Dien tich S = 78.5\n",
      "Chu vi P = 31.4\n"
     ]
    }
   ],
   "source": [
    "R = float(input(\"Nhap ban kinh R: \"))\n",
    "\n",
    "S = 3.14 * R * R      # diện tích\n",
    "P = 2 * 3.14 * R      # chu vi\n",
    "\n",
    "print(f\"Dien tich S = {S:.1f}\")\n",
    "print(f\"Chu vi P = {P:.1f}\")"
   ]
  },
  {
   "cell_type": "code",
   "execution_count": 3,
   "id": "3187854a-b3d1-46d2-a641-9d38b59e74c7",
   "metadata": {},
   "outputs": [
    {
     "name": "stdin",
     "output_type": "stream",
     "text": [
      "Nhap so gio:  1\n",
      "Nhap so phut:  20\n",
      "Nhap so giay:  10\n"
     ]
    },
    {
     "name": "stdout",
     "output_type": "stream",
     "text": [
      "Tong so giay cua 1:20:10 la 4810 giay\n"
     ]
    }
   ],
   "source": [
    "h = int(input(\"Nhap so gio: \"))\n",
    "m = int(input(\"Nhap so phut: \"))\n",
    "s = int(input(\"Nhap so giay: \"))\n",
    "\n",
    "tong = h * 3600 + m * 60 + s\n",
    "\n",
    "print(f\"Tong so giay cua {h}:{m}:{s} la {tong} giay\")\n"
   ]
  },
  {
   "cell_type": "code",
   "execution_count": 4,
   "id": "a1fe44a6-0e5a-4a15-8ad5-27d73bd28bb2",
   "metadata": {},
   "outputs": [
    {
     "name": "stdin",
     "output_type": "stream",
     "text": [
      "Nhap vao tong so giay:  4810\n"
     ]
    },
    {
     "name": "stdout",
     "output_type": "stream",
     "text": [
      "4810 giay co dang 1:20:10\n"
     ]
    }
   ],
   "source": [
    "t = int(input(\"Nhap vao tong so giay: \"))\n",
    "\n",
    "h = t // 3600\n",
    "m = (t % 3600) // 60\n",
    "s = t % 60\n",
    "\n",
    "print(f\"{t} giay co dang {h}:{m}:{s}\")"
   ]
  },
  {
   "cell_type": "code",
   "execution_count": 5,
   "id": "b75f0e2f-8843-4892-bc29-1e4a4bb5ebe9",
   "metadata": {},
   "outputs": [
    {
     "name": "stdin",
     "output_type": "stream",
     "text": [
      "Nhap do dai canh a:  2\n",
      "Nhap do dai canh b:  4\n",
      "Nhap do dai canh c:  3\n"
     ]
    },
    {
     "name": "stdout",
     "output_type": "stream",
     "text": [
      "Dien tich tam giac S = 2.90\n"
     ]
    }
   ],
   "source": [
    "import math\n",
    "\n",
    "a = float(input(\"Nhap do dai canh a: \"))\n",
    "b = float(input(\"Nhap do dai canh b: \"))\n",
    "c = float(input(\"Nhap do dai canh c: \"))\n",
    "\n",
    "p = (a + b + c) / 2   # nửa chu vi\n",
    "S = math.sqrt(p * (p - a) * (p - b) * (p - c))\n",
    "\n",
    "print(f\"Dien tich tam giac S = {S:.2f}\")"
   ]
  },
  {
   "cell_type": "code",
   "execution_count": 6,
   "id": "2301a455-e98a-432b-8175-eddddd566239",
   "metadata": {},
   "outputs": [
    {
     "name": "stdin",
     "output_type": "stream",
     "text": [
      "Nhap so thuc a:  2\n",
      "Nhap so mu n:  4\n"
     ]
    },
    {
     "name": "stdout",
     "output_type": "stream",
     "text": [
      "Ket qua 2.0^4 = 16\n"
     ]
    }
   ],
   "source": [
    "a = float(input(\"Nhap so thuc a: \"))\n",
    "n = int(input(\"Nhap so mu n: \"))\n",
    "\n",
    "ket_qua = a ** n\n",
    "\n",
    "print(f\"Ket qua {a}^{n} = {ket_qua:.0f}\")"
   ]
  },
  {
   "cell_type": "code",
   "execution_count": 3,
   "id": "cd4539ac-c806-4dbd-950b-9244c2394677",
   "metadata": {},
   "outputs": [
    {
     "name": "stdin",
     "output_type": "stream",
     "text": [
      "x =  1234\n"
     ]
    },
    {
     "name": "stdout",
     "output_type": "stream",
     "text": [
      "y = 4321\n"
     ]
    }
   ],
   "source": [
    "x = input(\"x = \")\n",
    "y = x[::-1]   # đảo chuỗi\n",
    "print(f\"y = {y}\")"
   ]
  },
  {
   "cell_type": "code",
   "execution_count": 4,
   "id": "8ceb32f0-275f-4162-aba7-353ec7fbf4a2",
   "metadata": {},
   "outputs": [
    {
     "name": "stdin",
     "output_type": "stream",
     "text": [
      "Nhap goc (do):  60\n"
     ]
    },
    {
     "name": "stdout",
     "output_type": "stream",
     "text": [
      "60.0 do = 1.0472 radian\n"
     ]
    }
   ],
   "source": [
    "import math\n",
    "\n",
    "deg = float(input(\"Nhap goc (do): \"))\n",
    "rad = math.radians(deg)\n",
    "\n",
    "print(f\"{deg} do = {rad:.4f} radian\")"
   ]
  },
  {
   "cell_type": "code",
   "execution_count": 4,
   "id": "ab633642-8812-47e9-a39a-b498ca3b68bc",
   "metadata": {},
   "outputs": [
    {
     "name": "stdin",
     "output_type": "stream",
     "text": [
      "Nhap so thuc x:  1\n"
     ]
    },
    {
     "name": "stdout",
     "output_type": "stream",
     "text": [
      "y1 = 60.0\n",
      "y2 = 0.174677014693734\n"
     ]
    }
   ],
   "source": [
    "import math\n",
    "x = float(input(\"Nhap so thuc x: \"))\n",
    "\n",
    "y1 = 4 * (x ** 2 + 10 * x * math.sqrt(x) +3 * x + 1)\n",
    "y2 = (math.sin(math.pi * x ** 2) + math.sqrt(x ** 2 + 1)) / (math.e ** (2 * x) + math.cos((math.pi / 4) * x))\n",
    "\n",
    "print(f\"y1 = {y1}\")\n",
    "print(f\"y2 = {y2}\")"
   ]
  },
  {
   "cell_type": "code",
   "execution_count": 7,
   "id": "49f11a28-0db7-4c39-af6b-7f7341054d44",
   "metadata": {},
   "outputs": [
    {
     "name": "stdin",
     "output_type": "stream",
     "text": [
      "Nhap x1:  1\n",
      "Nhap y1:  2\n",
      "Nhap x2:  3\n",
      "Nhap y2:  4\n"
     ]
    },
    {
     "name": "stdout",
     "output_type": "stream",
     "text": [
      "Khoang cach giua A(1.0,2.0) và B(3.0,4.0) là 2.83\n"
     ]
    }
   ],
   "source": [
    "import math\n",
    "\n",
    "x1 = float(input(\"Nhap x1: \"))\n",
    "y1 = float(input(\"Nhap y1: \"))\n",
    "x2 = float(input(\"Nhap x2: \"))\n",
    "y2 = float(input(\"Nhap y2: \"))\n",
    "\n",
    "d = math.sqrt((x2 - x1) ** 2 + (y2 - y1) ** 2)\n",
    "\n",
    "print(f\"Khoang cach giua A({x1},{y1}) và B({x2},{y2}) là {d:.2f}\")\n"
   ]
  },
  {
   "cell_type": "markdown",
   "id": "6e5536f4-80e6-44a4-b3a4-defb7c79d51c",
   "metadata": {},
   "source": [
    "# CẤU TRÚC ĐIỀU KIỆN"
   ]
  },
  {
   "cell_type": "markdown",
   "id": "63d66c5c-df5e-4568-9269-9af55b17785c",
   "metadata": {},
   "source": [
    "## BÀI TẬP TRÊN LỚP"
   ]
  },
  {
   "cell_type": "code",
   "execution_count": 10,
   "id": "70ac2b87-1b72-4531-8140-ee2590777c3e",
   "metadata": {},
   "outputs": [
    {
     "name": "stdin",
     "output_type": "stream",
     "text": [
      " 1\n",
      " 2\n",
      " 3\n"
     ]
    },
    {
     "name": "stdout",
     "output_type": "stream",
     "text": [
      "Max(1, 2, 3) = 3\n"
     ]
    }
   ],
   "source": [
    "# Input a, b, c\n",
    "a = int(input())\n",
    "b = int(input())\n",
    "c = int(input())\n",
    "\n",
    "# max a, b, c\n",
    "def max_fn(a, b):\n",
    "    return a if a > b else b\n",
    "    pass \n",
    "    \n",
    "vmax = max_fn(a, b)\n",
    "vmax = max_fn(vmax, c)\n",
    "\n",
    "# output\n",
    "print(\"Max(%d, %d, %d) = %d\"%(a, b, c, vmax))"
   ]
  },
  {
   "cell_type": "code",
   "execution_count": 14,
   "id": "c9af32b4-c71a-4544-919e-95f648b7d789",
   "metadata": {},
   "outputs": [
    {
     "name": "stdin",
     "output_type": "stream",
     "text": [
      " 4\n",
      " 3\n",
      " 6\n"
     ]
    },
    {
     "name": "stdout",
     "output_type": "stream",
     "text": [
      "Thứ tự tăng dần: 3, 4, 6\n"
     ]
    }
   ],
   "source": [
    "a = int(input())\n",
    "b = int(input())\n",
    "c = int(input())\n",
    "\n",
    "if a > b:\n",
    "    a, b = b, a\n",
    "\n",
    "if a > c:\n",
    "    a, c = c, a\n",
    "\n",
    "if b > c:\n",
    "    b, c = c, b\n",
    "\n",
    "print(f\"Thứ tự tăng dần: {a}, {b}, {c}\")"
   ]
  },
  {
   "cell_type": "code",
   "execution_count": 4,
   "id": "0d00ad80-e490-4092-8aea-eab192694796",
   "metadata": {},
   "outputs": [
    {
     "name": "stdin",
     "output_type": "stream",
     "text": [
      " 2\n",
      " 3\n"
     ]
    },
    {
     "name": "stdout",
     "output_type": "stream",
     "text": [
      "2.00x + 3.00 = 0: x = -1.50\n"
     ]
    }
   ],
   "source": [
    "a = float(input())\n",
    "b = float(input())\n",
    "\n",
    "def solv1deg(a, b):\n",
    "    \"\"\"\n",
    "    Solve Equation ax + b = 0\n",
    "    \"\"\"\n",
    "    nsol, x = None, None\n",
    "    if a == 0:\n",
    "        if b == 0:\n",
    "            nsol = -1\n",
    "        else:\n",
    "            nsol = 0\n",
    "    else:\n",
    "        nsol = 1\n",
    "        x = -b / a \n",
    "        \n",
    "    return nsol, x\n",
    "    pass\n",
    "\n",
    "nsol, x = solv1deg(a, b)\n",
    "\n",
    "if nsol == -1:\n",
    "    print(\"%.2fx + %.2f = 0: unlimited solutions\"%(a, b))\n",
    "elif nsol == 0:\n",
    "    print(\"%.2fx + %.2f = 0: no solution\"%(a, b))\n",
    "else:\n",
    "    print(\"%.2fx + %.2f = 0: x = %.2f\"%(a, b, x))"
   ]
  }
 ],
 "metadata": {
  "kernelspec": {
   "display_name": "Python 3 (ipykernel)",
   "language": "python",
   "name": "python3"
  },
  "language_info": {
   "codemirror_mode": {
    "name": "ipython",
    "version": 3
   },
   "file_extension": ".py",
   "mimetype": "text/x-python",
   "name": "python",
   "nbconvert_exporter": "python",
   "pygments_lexer": "ipython3",
   "version": "3.12.1"
  }
 },
 "nbformat": 4,
 "nbformat_minor": 5
}
