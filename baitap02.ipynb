{
  "nbformat": 4,
  "nbformat_minor": 0,
  "metadata": {
    "colab": {
      "provenance": [],
      "toc_visible": true,
      "gpuType": "T4",
      "authorship_tag": "ABX9TyPi3YB3V/390/RghTRdgwGm",
      "include_colab_link": true
    },
    "kernelspec": {
      "name": "python3",
      "display_name": "Python 3"
    },
    "language_info": {
      "name": "python"
    },
    "accelerator": "GPU"
  },
  "cells": [
    {
      "cell_type": "markdown",
      "metadata": {
        "id": "view-in-github",
        "colab_type": "text"
      },
      "source": [
        "<a href=\"https://colab.research.google.com/github/ainguyen05/ainguyen05.github.io/blob/main/baitap02.ipynb\" target=\"_parent\"><img src=\"https://colab.research.google.com/assets/colab-badge.svg\" alt=\"Open In Colab\"/></a>"
      ]
    },
    {
      "cell_type": "code",
      "execution_count": 1,
      "metadata": {
        "colab": {
          "base_uri": "https://localhost:8080/"
        },
        "id": "SIDPZwIPm4Fo",
        "outputId": "ea42f9ba-1587-415c-fb9b-88e05cbc4336"
      },
      "outputs": [
        {
          "output_type": "stream",
          "name": "stdout",
          "text": [
            "Hello World\n"
          ]
        }
      ],
      "source": [
        "print('Hello World')\n"
      ]
    },
    {
      "cell_type": "markdown",
      "source": [
        "## Python 101\n"
      ],
      "metadata": {
        "id": "6mtgApOCxTX6"
      }
    },
    {
      "cell_type": "code",
      "source": [
        "# Future Value\n",
        "pv = 100\n",
        "r = 0.1\n",
        "n = 7\n",
        "fv = pv * ((1+(r)) ** n)\n",
        "print(round(fv, 2))"
      ],
      "metadata": {
        "colab": {
          "base_uri": "https://localhost:8080/"
        },
        "id": "Y-aFpGm4nlcK",
        "outputId": "3ba1b60f-2cf7-4a98-fa80-e505a3c5852b"
      },
      "execution_count": 2,
      "outputs": [
        {
          "output_type": "stream",
          "name": "stdout",
          "text": [
            "194.87\n"
          ]
        }
      ]
    },
    {
      "cell_type": "code",
      "source": [
        "score = 80\n",
        "if score >= 60:\n",
        "    print(\"Pass\")"
      ],
      "metadata": {
        "colab": {
          "base_uri": "https://localhost:8080/"
        },
        "id": "0qD4gI6roVai",
        "outputId": "0c8bf967-9290-4fad-8635-55e28abbbc67"
      },
      "execution_count": 3,
      "outputs": [
        {
          "output_type": "stream",
          "name": "stdout",
          "text": [
            "Pass\n"
          ]
        }
      ]
    },
    {
      "cell_type": "code",
      "source": [
        "# Python Variables\n",
        "x = 2\n",
        "price = 2.5\n",
        "word = 'Hello'\n",
        "\n",
        "word = 'Hello'\n",
        "word = \"Hello\"\n",
        "word = '''Hello'''\n",
        "print(x, price, word)\n"
      ],
      "metadata": {
        "colab": {
          "base_uri": "https://localhost:8080/"
        },
        "id": "ZAHxYk6mpMcZ",
        "outputId": "d9315115-9106-4751-b849-5527792e8d86"
      },
      "execution_count": 4,
      "outputs": [
        {
          "output_type": "stream",
          "name": "stdout",
          "text": [
            "2 2.5 Hello\n"
          ]
        }
      ]
    },
    {
      "cell_type": "code",
      "source": [
        "x = 2\n",
        "y =x + 1\n",
        "print(y)"
      ],
      "metadata": {
        "colab": {
          "base_uri": "https://localhost:8080/"
        },
        "id": "Jo8GE1IDqD15",
        "outputId": "3c20ca6d-c48c-4fea-87b1-275243660c61"
      },
      "execution_count": 5,
      "outputs": [
        {
          "output_type": "stream",
          "name": "stdout",
          "text": [
            "3\n"
          ]
        }
      ]
    },
    {
      "cell_type": "code",
      "source": [
        "# comment\n",
        "from platform import python_version\n",
        "print(\"Python Version:\", python_version())"
      ],
      "metadata": {
        "colab": {
          "base_uri": "https://localhost:8080/"
        },
        "id": "AXFmAoKCqSqq",
        "outputId": "05803a71-8349-43a8-da39-7f604a63d7c6"
      },
      "execution_count": 6,
      "outputs": [
        {
          "output_type": "stream",
          "name": "stdout",
          "text": [
            "Python Version: 3.11.13\n"
          ]
        }
      ]
    },
    {
      "cell_type": "code",
      "source": [
        "x = 'Hello, World'\n",
        "print(x, type(x))\n",
        "\n",
        "x = 2\n",
        "print(x, type(x))\n",
        "\n",
        "x = 2.5\n",
        "print(x, type(x))\n",
        "\n",
        "x = 7j\n",
        "print(x, type(x))\n"
      ],
      "metadata": {
        "colab": {
          "base_uri": "https://localhost:8080/"
        },
        "id": "sreONibaqw8p",
        "outputId": "87081d42-b210-469d-944d-0ff6af5d218b"
      },
      "execution_count": 7,
      "outputs": [
        {
          "output_type": "stream",
          "name": "stdout",
          "text": [
            "Hello, World <class 'str'>\n",
            "2 <class 'int'>\n",
            "2.5 <class 'float'>\n",
            "7j <class 'complex'>\n"
          ]
        }
      ]
    },
    {
      "cell_type": "code",
      "source": [
        "x = ['apple', 'banana', 'cherry']\n",
        "print(x, type(x))"
      ],
      "metadata": {
        "colab": {
          "base_uri": "https://localhost:8080/"
        },
        "id": "4XxBFNNJrSy9",
        "outputId": "a90a63b6-1d58-40db-f23f-87205b321687"
      },
      "execution_count": 14,
      "outputs": [
        {
          "output_type": "stream",
          "name": "stdout",
          "text": [
            "['apple', 'banana', 'cherry'] <class 'list'>\n"
          ]
        }
      ]
    },
    {
      "cell_type": "code",
      "source": [
        "x = True #bool\n",
        "print(x, type(x))\n",
        "\n",
        "x = b\"Hello\" #bytes\n",
        "print(x, type(x))\n",
        "\n",
        "x = bytearray #bytearray\n",
        "print(x, type(x))\n",
        "\n",
        "x = memoryview(bytes(5)) #memoryview\n",
        "print(x, type(x))\n",
        "\n",
        "x = None #NoneType\n",
        "print(x, type(x))\n"
      ],
      "metadata": {
        "colab": {
          "base_uri": "https://localhost:8080/"
        },
        "id": "IsLot2QZs2_R",
        "outputId": "5a7d8fec-7bc2-44f6-cb5e-2f6c70d7a5cd"
      },
      "execution_count": 16,
      "outputs": [
        {
          "output_type": "stream",
          "name": "stdout",
          "text": [
            "True <class 'bool'>\n",
            "b'Hello' <class 'bytes'>\n",
            "<class 'bytearray'> <class 'type'>\n",
            "<memory at 0x7ddacb622500> <class 'memoryview'>\n",
            "None <class 'NoneType'>\n"
          ]
        }
      ]
    },
    {
      "cell_type": "code",
      "source": [
        "#casting\n",
        "x = str(3)\n",
        "y= int(3)\n",
        "z = float(3)\n",
        "\n",
        "print(x, type(x))\n",
        "print(y, type(y))\n",
        "print(z, type(z))"
      ],
      "metadata": {
        "colab": {
          "base_uri": "https://localhost:8080/"
        },
        "id": "9yNiOfeptoag",
        "outputId": "cca25c8a-5de6-475f-e72e-8b6649ef6071"
      },
      "execution_count": 17,
      "outputs": [
        {
          "output_type": "stream",
          "name": "stdout",
          "text": [
            "3 <class 'str'>\n",
            "3 <class 'int'>\n",
            "3.0 <class 'float'>\n"
          ]
        }
      ]
    },
    {
      "cell_type": "code",
      "source": [
        "x = 2\n",
        "print(x, type(x))\n",
        "\n",
        "y = 3.4\n",
        "print(y, type(y))\n",
        "\n",
        "z =7j + 3.5\n",
        "print(z, type(z))\n"
      ],
      "metadata": {
        "colab": {
          "base_uri": "https://localhost:8080/"
        },
        "id": "qqRv1_iVuBY_",
        "outputId": "ce61e9c9-3326-423a-8163-3088806fa010"
      },
      "execution_count": 18,
      "outputs": [
        {
          "output_type": "stream",
          "name": "stdout",
          "text": [
            "2 <class 'int'>\n",
            "3.4 <class 'float'>\n",
            "(3.5+7j) <class 'complex'>\n"
          ]
        }
      ]
    },
    {
      "cell_type": "code",
      "source": [
        "#Operator\n",
        "print( 7+2 )\n",
        "print( 7-2 )\n",
        "print( 7*2 )\n",
        "print( 7/2 )\n",
        "print( 7//2 )\n",
        "print( 7%2 )\n",
        "print( 7**2 )"
      ],
      "metadata": {
        "colab": {
          "base_uri": "https://localhost:8080/"
        },
        "id": "DQS20CNFuU1a",
        "outputId": "8c03831b-eec2-4a4a-8e16-9b3a858884a0"
      },
      "execution_count": 20,
      "outputs": [
        {
          "output_type": "stream",
          "name": "stdout",
          "text": [
            "9\n",
            "5\n",
            "14\n",
            "3.5\n",
            "3\n",
            "1\n",
            "49\n"
          ]
        }
      ]
    },
    {
      "cell_type": "code",
      "source": [
        "# Comparision\n",
        "print(3 > 2)\n",
        "print(3 == 2)\n",
        "print(3 < 2)"
      ],
      "metadata": {
        "colab": {
          "base_uri": "https://localhost:8080/"
        },
        "id": "UXU0skh7u1Jo",
        "outputId": "cf556ed2-0de4-40c3-a114-ed353a39586d"
      },
      "execution_count": 21,
      "outputs": [
        {
          "output_type": "stream",
          "name": "stdout",
          "text": [
            "True\n",
            "False\n",
            "False\n"
          ]
        }
      ]
    },
    {
      "cell_type": "code",
      "source": [
        "# bmi\n",
        "# input\n",
        "height_cm = 162\n",
        "weight_kg = 45\n",
        "\n",
        "#process\n",
        "height_m = height_cm / 100\n",
        "bmi = (weight_kg / (height_m**2))\n",
        "print('Your BMI is', round(bmi, 2))"
      ],
      "metadata": {
        "colab": {
          "base_uri": "https://localhost:8080/"
        },
        "id": "rQm41gy_vHZB",
        "outputId": "fbff3597-b07f-46b6-826d-9f9a79384cea"
      },
      "execution_count": 22,
      "outputs": [
        {
          "output_type": "stream",
          "name": "stdout",
          "text": [
            "Your BMI is 17.15\n"
          ]
        }
      ]
    },
    {
      "cell_type": "code",
      "source": [
        "# 100$ sau 7 nam\n",
        "fv = 100 * (1 + 0.1) ** 7\n",
        "print('fv = ', round(fv, 2))"
      ],
      "metadata": {
        "colab": {
          "base_uri": "https://localhost:8080/"
        },
        "id": "Vm4TwXnnvzcr",
        "outputId": "f530e456-3e0f-4d11-f7c6-d6736c389fa3"
      },
      "execution_count": 24,
      "outputs": [
        {
          "output_type": "stream",
          "name": "stdout",
          "text": [
            "fv =  194.87\n"
          ]
        }
      ]
    },
    {
      "cell_type": "code",
      "source": [
        "# input\n",
        "amount = 100\n",
        "interest = 10 # 10%\n",
        "year = 7\n",
        "\n",
        "#process\n",
        "future_value = amount * ((1 + (interest)) ** year)\n",
        "print('future_value', round(future_value, 2))"
      ],
      "metadata": {
        "colab": {
          "base_uri": "https://localhost:8080/"
        },
        "id": "lSFxDIzEwVhX",
        "outputId": "2c72b324-224a-4fcf-9209-d2da9e942fbe"
      },
      "execution_count": 25,
      "outputs": [
        {
          "output_type": "stream",
          "name": "stdout",
          "text": [
            "future_value 1948717100\n"
          ]
        }
      ]
    },
    {
      "cell_type": "markdown",
      "source": [
        "## Cau truc du lieu"
      ],
      "metadata": {
        "id": "BjO3-e-Bxv2u"
      }
    },
    {
      "cell_type": "code",
      "source": [
        "x = [\"apple\", \"banana\", \"cherry\"] #list\n",
        "print(x, type(x))\n",
        "\n",
        "x= (\"apple\", \"banana\", \"cherry\") #tuple\n",
        "print(x, type(x))\n",
        "\n",
        "x = {\"name\" : \"Tom\", \"age\" : 20} #dict\n",
        "print(x, type(x))\n",
        "\n",
        "x = {\"apple\", \"banana\", \"cherry\"} #set\n",
        "print(x, type(x))\n"
      ],
      "metadata": {
        "colab": {
          "base_uri": "https://localhost:8080/"
        },
        "id": "EvFTmQXzx4nw",
        "outputId": "a68a9043-71ca-4aff-87b2-7bee95d29214"
      },
      "execution_count": 26,
      "outputs": [
        {
          "output_type": "stream",
          "name": "stdout",
          "text": [
            "['apple', 'banana', 'cherry'] <class 'list'>\n",
            "('apple', 'banana', 'cherry') <class 'tuple'>\n",
            "{'name': 'Tom', 'age': 20} <class 'dict'>\n",
            "{'apple', 'cherry', 'banana'} <class 'set'>\n"
          ]
        }
      ]
    },
    {
      "cell_type": "code",
      "source": [
        "# List\n",
        "x = [60, 70, 80, 90]\n",
        "print(len(x))\n",
        "print(x[0])\n",
        "print(x[1])\n",
        "print(x[-1])"
      ],
      "metadata": {
        "colab": {
          "base_uri": "https://localhost:8080/"
        },
        "id": "k08RqXLdyN45",
        "outputId": "b3f84c28-c1ce-4e6a-aa38-6fd1950d80e2"
      },
      "execution_count": 27,
      "outputs": [
        {
          "output_type": "stream",
          "name": "stdout",
          "text": [
            "4\n",
            "60\n",
            "70\n",
            "90\n"
          ]
        }
      ]
    },
    {
      "cell_type": "code",
      "source": [
        "# Tuple\n",
        "x = (10, 20, 30, 40, 50)\n",
        "print(len(x))\n",
        "print(x[0])\n",
        "print(x[1])\n",
        "print(x[-1])"
      ],
      "metadata": {
        "colab": {
          "base_uri": "https://localhost:8080/"
        },
        "id": "cnh_qhTNygXk",
        "outputId": "c6610eae-5bbc-48bc-b98e-ac52f408ed82"
      },
      "execution_count": 28,
      "outputs": [
        {
          "output_type": "stream",
          "name": "stdout",
          "text": [
            "5\n",
            "10\n",
            "20\n",
            "50\n"
          ]
        }
      ]
    },
    {
      "cell_type": "code",
      "source": [
        "animals = {'cat', 'dog'}\n",
        "print('cat' in animals)\n",
        "print('dog' in animals)\n",
        "animals.add('fish')\n",
        "print('fish' in animals)\n",
        "print(len(animals))\n",
        "animals.add('cat')\n",
        "print(len(animals))\n",
        "animals.remove('cat')\n",
        "print(len(animals))"
      ],
      "metadata": {
        "colab": {
          "base_uri": "https://localhost:8080/"
        },
        "id": "73TXZmvKy7kc",
        "outputId": "f5c59f41-c55c-42d7-8d85-054ce252853e"
      },
      "execution_count": 29,
      "outputs": [
        {
          "output_type": "stream",
          "name": "stdout",
          "text": [
            "True\n",
            "True\n",
            "True\n",
            "3\n",
            "3\n",
            "2\n"
          ]
        }
      ]
    },
    {
      "cell_type": "code",
      "source": [
        "# dictionary\n",
        "k = { 'EN':'English','FR':'French' }\n",
        "print(k['EN'])"
      ],
      "metadata": {
        "colab": {
          "base_uri": "https://localhost:8080/"
        },
        "id": "JXvR3Jnr2k0W",
        "outputId": "3ef8748b-6bda-48fc-fe4f-56c56f540283"
      },
      "execution_count": 31,
      "outputs": [
        {
          "output_type": "stream",
          "name": "stdout",
          "text": [
            "English\n"
          ]
        }
      ]
    },
    {
      "cell_type": "code",
      "source": [
        "fruits = [\"apple\", \"banana\", \"cherry\"] #lists []\n",
        "print(fruits, type(fruits))\n",
        "\n",
        "colors = (\"red\", \"green\", \"blue\") #tuples ()\n",
        "print(colors, type(colors))\n",
        "\n",
        "animals = {'cat', 'dog'} #sets {}\n",
        "print(animals, type(animals))\n",
        "\n",
        "person = {\"name\" : \"Tom\", \"age\" : 20} #dictionaries {}\n",
        "print(person, type(person))\n"
      ],
      "metadata": {
        "colab": {
          "base_uri": "https://localhost:8080/"
        },
        "id": "_H_YiTXY2tw0",
        "outputId": "06d4d93d-b4f1-44ba-fd19-bbe66090130d"
      },
      "execution_count": 32,
      "outputs": [
        {
          "output_type": "stream",
          "name": "stdout",
          "text": [
            "['apple', 'banana', 'cherry'] <class 'list'>\n",
            "('red', 'green', 'blue') <class 'tuple'>\n",
            "{'dog', 'cat'} <class 'set'>\n",
            "{'name': 'Tom', 'age': 20} <class 'dict'>\n"
          ]
        }
      ]
    },
    {
      "cell_type": "code",
      "source": [
        "# Python Lists\n",
        "expenses = [72.50, 80.75, 50.00, 90.25]\n",
        "total_expenses = sum(expenses)\n",
        "print(\"Total expenses:\", total_expenses)"
      ],
      "metadata": {
        "colab": {
          "base_uri": "https://localhost:8080/"
        },
        "id": "9jJ3EFLp3Z8g",
        "outputId": "c071ebd6-6083-43b7-db11-2bd8d00c1d0a"
      },
      "execution_count": 33,
      "outputs": [
        {
          "output_type": "stream",
          "name": "stdout",
          "text": [
            "Total expenses: 293.5\n"
          ]
        }
      ]
    },
    {
      "cell_type": "code",
      "source": [
        "# Python Tuples\n",
        "accounts = ((\"Cash\", 1001), (\"Accounts Receivable\", 1002),(\"Inventory\", 1003))\n",
        "for account in accounts:\n",
        "  print(\"Account name:\", account[0], \"Account number:\", account[1])"
      ],
      "metadata": {
        "colab": {
          "base_uri": "https://localhost:8080/"
        },
        "id": "XkID-wv64EVZ",
        "outputId": "02fb9213-ee50-413b-d1e0-eda73c0462ed"
      },
      "execution_count": 36,
      "outputs": [
        {
          "output_type": "stream",
          "name": "stdout",
          "text": [
            "Account name: Cash Account number: 1001\n",
            "Account name: Accounts Receivable Account number: 1002\n",
            "Account name: Inventory Account number: 1003\n"
          ]
        }
      ]
    },
    {
      "cell_type": "code",
      "source": [
        "# Python Sets\n",
        "account_numbers = {1001, 1002, 1003}\n",
        "new_account_number = 1004\n",
        "if new_account_number not in account_numbers:\n",
        "  print(\"Account number\", new_account_number, \"is not in use.\")"
      ],
      "metadata": {
        "colab": {
          "base_uri": "https://localhost:8080/"
        },
        "id": "DPPf6uQ74gzL",
        "outputId": "6af4ddcd-18bc-4bad-81be-4aab98b6969e"
      },
      "execution_count": 37,
      "outputs": [
        {
          "output_type": "stream",
          "name": "stdout",
          "text": [
            "Account number 1004 is not in use.\n"
          ]
        }
      ]
    },
    {
      "cell_type": "code",
      "source": [
        "# Python Dictionary\n",
        "accounts = {\"1001\": {\"name\": \"Cash\", \"balance\": 500.0, \"type\": \"Asset\"},\n",
        "\"1002\": {\"name\": \"Accounts Receivable\", \"balance\": 1000.0, \"type\": \"Asset\"},\n",
        "\"1003\": {\"name\": \"Accounts Payable\", \"balance\": 750.0, \"type\": \"Liability\"}}\n",
        "for account_number, account_info in accounts.items():\n",
        "  print(\"Account number:\", account_number)\n",
        "  print(\"Account name:\", account_info[\"name\"])\n",
        "  print(\"Account balance:\", account_info[\"balance\"])\n",
        "  print(\"Account type:\", account_info[\"type\"])\n"
      ],
      "metadata": {
        "colab": {
          "base_uri": "https://localhost:8080/"
        },
        "id": "zIGIkCbo4uiN",
        "outputId": "507a6c80-222d-4c76-d7d4-d13524c83c15"
      },
      "execution_count": 38,
      "outputs": [
        {
          "output_type": "stream",
          "name": "stdout",
          "text": [
            "Account number: 1001\n",
            "Account name: Cash\n",
            "Account balance: 500.0\n",
            "Account type: Asset\n",
            "Account number: 1002\n",
            "Account name: Accounts Receivable\n",
            "Account balance: 1000.0\n",
            "Account type: Asset\n",
            "Account number: 1003\n",
            "Account name: Accounts Payable\n",
            "Account balance: 750.0\n",
            "Account type: Liability\n"
          ]
        }
      ]
    },
    {
      "cell_type": "code",
      "source": [
        "# if\n",
        "score = 80\n",
        "if score >= 60:\n",
        "  print('Pass')\n"
      ],
      "metadata": {
        "colab": {
          "base_uri": "https://localhost:8080/"
        },
        "id": "ZIXrcYmK5Bev",
        "outputId": "6bd752bf-75f5-4929-898e-13859cbab275"
      },
      "execution_count": 39,
      "outputs": [
        {
          "output_type": "stream",
          "name": "stdout",
          "text": [
            "Pass\n"
          ]
        }
      ]
    },
    {
      "cell_type": "code",
      "source": [
        "# Python if else\n",
        "score = 80\n",
        "if score >=60 :\n",
        "  print(\"Pass\")\n",
        "else:\n",
        "  print(\"Fail\")"
      ],
      "metadata": {
        "colab": {
          "base_uri": "https://localhost:8080/"
        },
        "id": "eTaEPYZi5d9p",
        "outputId": "96bf2ca4-0f6e-4920-bdf0-a6ce1f350fb3"
      },
      "execution_count": 40,
      "outputs": [
        {
          "output_type": "stream",
          "name": "stdout",
          "text": [
            "Pass\n"
          ]
        }
      ]
    },
    {
      "cell_type": "code",
      "source": [
        "score = 95\n",
        "if score >= 90 :\n",
        "  print(\"A\")\n",
        "elif score >=60 :\n",
        "  print(\"Pass\")\n",
        "else:\n",
        "  print(\"Fail\")"
      ],
      "metadata": {
        "colab": {
          "base_uri": "https://localhost:8080/"
        },
        "id": "cXXya3dX5kJ0",
        "outputId": "911c285b-897e-40d7-ae3c-4e04163e6f11"
      },
      "execution_count": 41,
      "outputs": [
        {
          "output_type": "stream",
          "name": "stdout",
          "text": [
            "A\n"
          ]
        }
      ]
    },
    {
      "cell_type": "code",
      "source": [
        "# Python if elif else\n",
        "score = 90\n",
        "grade = \"\"\n",
        "if score >=90:\n",
        "  grade = \"A\"\n",
        "elif score >= 80:\n",
        "  grade = \"B\"\n",
        "elif score >= 70:\n",
        "  grade = \"C\"\n",
        "elif score >= 60:\n",
        "  grade = \"D\"\n",
        "else:\n",
        "  grade = \"E\"\n",
        "print(grade)"
      ],
      "metadata": {
        "colab": {
          "base_uri": "https://localhost:8080/"
        },
        "id": "eeY3SQDJ5rhM",
        "outputId": "b87af057-9137-4b32-f06b-621fbe7b84fb"
      },
      "execution_count": 42,
      "outputs": [
        {
          "output_type": "stream",
          "name": "stdout",
          "text": [
            "A\n"
          ]
        }
      ]
    },
    {
      "cell_type": "code",
      "source": [
        "# loop\n",
        "for i in range(1, 6): # 1<=1<6\n",
        "  print(i)"
      ],
      "metadata": {
        "colab": {
          "base_uri": "https://localhost:8080/"
        },
        "id": "AfkjgGAw6QoN",
        "outputId": "21b966c7-c743-4646-ae76-5faeba6e15c1"
      },
      "execution_count": 45,
      "outputs": [
        {
          "output_type": "stream",
          "name": "stdout",
          "text": [
            "1\n",
            "2\n",
            "3\n",
            "4\n",
            "5\n"
          ]
        }
      ]
    },
    {
      "cell_type": "code",
      "source": [
        "# 2 loop\n",
        "for i in range (1, 10):\n",
        "  for j in range (1, 10):\n",
        "    print(f'{1} * {j} = {i + j}')\n",
        "  print('-'*50)"
      ],
      "metadata": {
        "colab": {
          "base_uri": "https://localhost:8080/"
        },
        "id": "gf-_OE4w6zZi",
        "outputId": "495d022e-3696-4dde-860b-7a5fc13ead4d"
      },
      "execution_count": 47,
      "outputs": [
        {
          "output_type": "stream",
          "name": "stdout",
          "text": [
            "1 * 1 = 2\n",
            "1 * 2 = 3\n",
            "1 * 3 = 4\n",
            "1 * 4 = 5\n",
            "1 * 5 = 6\n",
            "1 * 6 = 7\n",
            "1 * 7 = 8\n",
            "1 * 8 = 9\n",
            "1 * 9 = 10\n",
            "--------------------------------------------------\n",
            "1 * 1 = 3\n",
            "1 * 2 = 4\n",
            "1 * 3 = 5\n",
            "1 * 4 = 6\n",
            "1 * 5 = 7\n",
            "1 * 6 = 8\n",
            "1 * 7 = 9\n",
            "1 * 8 = 10\n",
            "1 * 9 = 11\n",
            "--------------------------------------------------\n",
            "1 * 1 = 4\n",
            "1 * 2 = 5\n",
            "1 * 3 = 6\n",
            "1 * 4 = 7\n",
            "1 * 5 = 8\n",
            "1 * 6 = 9\n",
            "1 * 7 = 10\n",
            "1 * 8 = 11\n",
            "1 * 9 = 12\n",
            "--------------------------------------------------\n",
            "1 * 1 = 5\n",
            "1 * 2 = 6\n",
            "1 * 3 = 7\n",
            "1 * 4 = 8\n",
            "1 * 5 = 9\n",
            "1 * 6 = 10\n",
            "1 * 7 = 11\n",
            "1 * 8 = 12\n",
            "1 * 9 = 13\n",
            "--------------------------------------------------\n",
            "1 * 1 = 6\n",
            "1 * 2 = 7\n",
            "1 * 3 = 8\n",
            "1 * 4 = 9\n",
            "1 * 5 = 10\n",
            "1 * 6 = 11\n",
            "1 * 7 = 12\n",
            "1 * 8 = 13\n",
            "1 * 9 = 14\n",
            "--------------------------------------------------\n",
            "1 * 1 = 7\n",
            "1 * 2 = 8\n",
            "1 * 3 = 9\n",
            "1 * 4 = 10\n",
            "1 * 5 = 11\n",
            "1 * 6 = 12\n",
            "1 * 7 = 13\n",
            "1 * 8 = 14\n",
            "1 * 9 = 15\n",
            "--------------------------------------------------\n",
            "1 * 1 = 8\n",
            "1 * 2 = 9\n",
            "1 * 3 = 10\n",
            "1 * 4 = 11\n",
            "1 * 5 = 12\n",
            "1 * 6 = 13\n",
            "1 * 7 = 14\n",
            "1 * 8 = 15\n",
            "1 * 9 = 16\n",
            "--------------------------------------------------\n",
            "1 * 1 = 9\n",
            "1 * 2 = 10\n",
            "1 * 3 = 11\n",
            "1 * 4 = 12\n",
            "1 * 5 = 13\n",
            "1 * 6 = 14\n",
            "1 * 7 = 15\n",
            "1 * 8 = 16\n",
            "1 * 9 = 17\n",
            "--------------------------------------------------\n",
            "1 * 1 = 10\n",
            "1 * 2 = 11\n",
            "1 * 3 = 12\n",
            "1 * 4 = 13\n",
            "1 * 5 = 14\n",
            "1 * 6 = 15\n",
            "1 * 7 = 16\n",
            "1 * 8 = 17\n",
            "1 * 9 = 18\n",
            "--------------------------------------------------\n"
          ]
        }
      ]
    },
    {
      "cell_type": "code",
      "source": [
        "# while loops\n",
        "age = 10\n",
        "while age < 20:\n",
        "  print(age)\n",
        "  age = age + 1"
      ],
      "metadata": {
        "colab": {
          "base_uri": "https://localhost:8080/"
        },
        "id": "cCXcwQVtDfQI",
        "outputId": "fbd44d69-ee59-4843-9e1c-233d58f97dd8"
      },
      "execution_count": 48,
      "outputs": [
        {
          "output_type": "stream",
          "name": "stdout",
          "text": [
            "10\n",
            "11\n",
            "12\n",
            "13\n",
            "14\n",
            "15\n",
            "16\n",
            "17\n",
            "18\n",
            "19\n"
          ]
        }
      ]
    },
    {
      "cell_type": "code",
      "source": [
        "def getfv(pv, r, n):\n",
        "  fv = pv * ((1 + (r)) ** n)\n",
        "  return fv\n",
        "fv = getfv(100, 0.1, 7)\n",
        "print(round(fv, 2))\n"
      ],
      "metadata": {
        "colab": {
          "base_uri": "https://localhost:8080/"
        },
        "id": "COjNjSSvDqK5",
        "outputId": "f1959262-8156-4f95-f5e5-8547c6dc640e"
      },
      "execution_count": 50,
      "outputs": [
        {
          "output_type": "stream",
          "name": "stdout",
          "text": [
            "194.87\n"
          ]
        }
      ]
    },
    {
      "cell_type": "code",
      "source": [
        "# Python class\n",
        "class MyClass:\n",
        "  x = 5\n",
        "\n",
        "c1 = MyClass()\n",
        "print(c1.x)\n"
      ],
      "metadata": {
        "colab": {
          "base_uri": "https://localhost:8080/"
        },
        "id": "C-SX8yCUEScO",
        "outputId": "975b96c7-a9ed-484a-d42f-86df65c63415"
      },
      "execution_count": 51,
      "outputs": [
        {
          "output_type": "stream",
          "name": "stdout",
          "text": [
            "5\n"
          ]
        }
      ]
    },
    {
      "cell_type": "code",
      "source": [
        "# class\n",
        "class Person:\n",
        "  def __init__(self, name, age):\n",
        "    self.name = name\n",
        "    self.age = age\n",
        "\n",
        "p1 = Person(\"Alan\", 20)\n",
        "print(p1.name)\n",
        "print(p1.age)"
      ],
      "metadata": {
        "colab": {
          "base_uri": "https://localhost:8080/"
        },
        "id": "Zze6c5WdEhP0",
        "outputId": "f39774eb-a7af-4204-b035-7f94a5302258"
      },
      "execution_count": 54,
      "outputs": [
        {
          "output_type": "stream",
          "name": "stdout",
          "text": [
            "Alan\n",
            "20\n"
          ]
        }
      ]
    },
    {
      "cell_type": "code",
      "source": [
        "class Person:\n",
        "  def __init__(self, name, age):\n",
        "    self.name = name\n",
        "    self.age = age\n",
        "\n",
        "  def myfunc(self):\n",
        "    print(\"Hello my name is \" + self.name)\n",
        "\n",
        "p1 = Person(\"Alan\", 20)\n",
        "p1.myfunc()\n",
        "print(p1.name)\n",
        "print(p1.age)"
      ],
      "metadata": {
        "colab": {
          "base_uri": "https://localhost:8080/"
        },
        "id": "oyTzCkMkLmKV",
        "outputId": "72dfccc9-dedc-410e-d674-5a20cfb600fb"
      },
      "execution_count": 72,
      "outputs": [
        {
          "output_type": "stream",
          "name": "stdout",
          "text": [
            "Hello my name is Alan\n",
            "Alan\n",
            "20\n"
          ]
        }
      ]
    },
    {
      "cell_type": "code",
      "source": [
        "class vehicle:\n",
        "  name = \" \"\n",
        "  kind = \"car\"\n",
        "  color = \" \"\n",
        "  value = 100.0\n",
        "\n",
        "  def __init__(self, name=\" \", kind=\"car\", color=\" \", value=100.0):\n",
        "    self.name = name\n",
        "    self.kind = kind\n",
        "    self.color = color\n",
        "    self.value = value\n",
        "    pass\n",
        "\n",
        "  def description(self):\n",
        "    desc_str = f'{self.name} is a{self.color} {self.kind} worth ${self.value}'\n",
        "    return desc_str\n",
        "    pass\n",
        "\n",
        "  car1 = vehicle()\n",
        "  car1.name = 'Fer'\n",
        "  car1.color = \"red\"\n",
        "  car1.kind = \"convertible\"\n",
        "  car1.value = 60000.00\n",
        "\n",
        "  car2 = vehicle()\n",
        "  car2.name = \"Jump\"\n",
        "  car2.color = \"blue\"\n",
        "  car2.kind = \"van\"\n",
        "  car2.value = 10000.00\n",
        "\n",
        "  print(car1.description())\n",
        "  print(car1.name)\n",
        "  print(car2.description())\n",
        "  print(car2.name)\n",
        "\n",
        "\n"
      ],
      "metadata": {
        "colab": {
          "base_uri": "https://localhost:8080/"
        },
        "id": "unzcmadmFA9v",
        "outputId": "cdd7da0e-a69e-433d-a129-aa1fcc23c496"
      },
      "execution_count": 62,
      "outputs": [
        {
          "output_type": "stream",
          "name": "stdout",
          "text": [
            "Fer is ared convertible worth $60000.0\n",
            "Fer\n",
            "Jump is ablue van worth $10000.0\n",
            "Jump\n"
          ]
        }
      ]
    },
    {
      "cell_type": "code",
      "source": [
        "# mymodule.py\n",
        "def greeting(name):\n",
        "  print(\"Hello, \" + name)\n"
      ],
      "metadata": {
        "id": "NMBS_oDXIezY"
      },
      "execution_count": 67,
      "outputs": []
    },
    {
      "cell_type": "code",
      "source": [
        "# Python File Input / Output\n",
        "filename = 'mymodule.py'\n",
        "with open(filename, 'w') as file:\n",
        "  text = '''def greeting(name):\n",
        "  print(\"Hello, \" + name)\n",
        "  '''\n",
        "  file.write(text)\n",
        "\n",
        "with open(filename, 'r') as file:\n",
        "  text = file.read()\n",
        "print(filename)\n",
        "print(text)\n"
      ],
      "metadata": {
        "colab": {
          "base_uri": "https://localhost:8080/"
        },
        "id": "NrXX2oKWKrFX",
        "outputId": "efb8768f-605e-4fbd-fa68-fd700ee22d43"
      },
      "execution_count": 68,
      "outputs": [
        {
          "output_type": "stream",
          "name": "stdout",
          "text": [
            "mymodule.py\n",
            "def greeting(name):\n",
            "  print(\"Hello, \" + name)\n",
            "  \n"
          ]
        }
      ]
    },
    {
      "cell_type": "code",
      "source": [
        "import mymodule\n",
        "mymodule.greeting(\"Alan\")"
      ],
      "metadata": {
        "colab": {
          "base_uri": "https://localhost:8080/"
        },
        "id": "gpquePpyK_8O",
        "outputId": "ceb4b046-087e-4f55-de11-7feaa17eca4c"
      },
      "execution_count": 69,
      "outputs": [
        {
          "output_type": "stream",
          "name": "stdout",
          "text": [
            "Hello, Alan\n"
          ]
        }
      ]
    },
    {
      "cell_type": "code",
      "source": [
        "#Python main() function\n",
        "def main():\n",
        "  print(\"Hello World!\")\n",
        "\n",
        "if __name__ == \"__main__\":\n",
        "  main()"
      ],
      "metadata": {
        "colab": {
          "base_uri": "https://localhost:8080/"
        },
        "id": "DmUiQpfYLGRS",
        "outputId": "b0e65a1f-4967-46f8-a649-2be977d61283"
      },
      "execution_count": 70,
      "outputs": [
        {
          "output_type": "stream",
          "name": "stdout",
          "text": [
            "Hello World!\n"
          ]
        }
      ]
    },
    {
      "cell_type": "code",
      "source": [
        "f = open(\"myfile.txt\"\n",
        ", \"w\")\n",
        "f.write(\"Hello World\")\n",
        "f.close()\n",
        "f = open(\"myfile.txt\", \"r\")\n",
        "\n",
        "text = f.read()\n",
        "print(text)\n",
        "f.close()\n"
      ],
      "metadata": {
        "colab": {
          "base_uri": "https://localhost:8080/"
        },
        "id": "YD5kGpE3M_or",
        "outputId": "e4a7c0af-f7b3-4e40-f01f-e88ebf1c7879"
      },
      "execution_count": 73,
      "outputs": [
        {
          "output_type": "stream",
          "name": "stdout",
          "text": [
            "Hello World\n"
          ]
        }
      ]
    },
    {
      "cell_type": "markdown",
      "source": [
        "## Ket thuc"
      ],
      "metadata": {
        "id": "jDr0o2u0RHfw"
      }
    }
  ]
}